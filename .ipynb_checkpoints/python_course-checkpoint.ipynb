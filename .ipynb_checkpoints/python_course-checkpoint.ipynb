{
 "cells": [
  {
   "cell_type": "markdown",
   "metadata": {},
   "source": [
    "# What is Python?\n",
    "\n",
    "Python is an *interpreted* language that is popular for many programming tasks. \n",
    "\n",
    "Python is:\n",
    "* Easy to learn -- you don't need to know what the computer is doing under the hood, like in C or C++\n",
    "* Pre-installed on Linux\n",
    "* Syntactically simple\n",
    "* Widely supported - the user community is large, and Stack Overflow has answers to most problems\n",
    "* Rated as the #1 to #5 most popular language, depending on the metric and the survey.\n"
   ]
  },
  {
   "cell_type": "markdown",
   "metadata": {},
   "source": [
    "\n",
    "# What can I use Python for?\n",
    "\n",
    "* Machine learning and Deep learning (Pytorch, TensorFlow)\n",
    "* Back-end web development (Django, flask)\n",
    "* Data science / data mining (scikit)\n",
    "* Data visualization \n",
    "* Plotting (matplotlib)\n",
    "* Scripting \n",
    "* Interact with web resources, such as site scrapers\n",
    "* Programming with databases (sqlite3)\n",
    "* Traditional computer vision (OpenCV)\n",
    "* Embedded programming (EmbeddedPython)\n",
    "* Multithreaded applications (multithreading)\n",
    "\n",
    "And so much more!"
   ]
  },
  {
   "cell_type": "markdown",
   "metadata": {},
   "source": [
    "XKCD's take on Python \n",
    "\n",
    "![title](python_xkcd.png)\n",
    "\n",
    "* Bonus fact - ```import antigravity``` in Python brings up this comic."
   ]
  },
  {
   "cell_type": "markdown",
   "metadata": {},
   "source": [
    "# Packages: Installing and Importing:\n",
    "\n",
    "To install a package, we use pip (stands for *pip installs packages*), the Python package manager. \n",
    "\n",
    "## Installing packages\n",
    "\n",
    "To install a package that you know the name of (for instance, numpy), simply go to the command line and type:\n",
    "\n",
    "```bash \n",
    "pip install numpy\n",
    "```\n",
    "\n",
    "Sometimes, we don't know the name of the package, so we need to search it. While Google is helpful, pip also includes a search function. Say I want to install OpenCV, the computer vision library, but I don't know the exact package name. I can type:\n",
    "\n",
    "```bash\n",
    "pip search opencv\n",
    "```\n",
    "and among the results will be ```opencv-python```, which is the package.\n",
    "\n",
    "Installation of packages is straightforward (you may have to type a 'y' somewhere). Uninstalling a package can be done with\n",
    "```bash\n",
    "pip uninstall opencv-python\n",
    "```\n",
    "\n",
    "If you want a certain version, you can specify like this:\n",
    "```bash\n",
    "pip install numpy==1.16.2\n",
    "```\n",
    "\n",
    "To get a list of packages you have installed in your system or virtual environment, use:\n",
    "```bash\n",
    "pip freeze > requirements.txt\n",
    "```\n",
    "which produces the file **requirements.txt**. You can also install a bunch of packages from a requirements file with\n",
    "```bash\n",
    "pip install -r requirements.txt\n",
    "```\n",
    "\n",
    "## Importing packages in your script\n",
    "Python scripts include the functionality of packages using the **import** keyword. Assuming that a package is in your path (most of the time, don't worry about this; pip will take care of it), you can import packages using the following. \n",
    "```python\n",
    "import numpy\n",
    "import tensorflow\n",
    "import matplotlib\n",
    "```\n",
    "You can also reference long package names in your script as shorter strings. Some common ones include:\n",
    "```python\n",
    "import numpy as np\n",
    "import tensorflow as tf\n",
    "import matplotlib as matplot\n",
    "```\n",
    "Occasionally, you may want to go down in the heirarchy of the package to just include one part of it. For instance, you can import just the 'array' functionality of numpy with\n",
    "```python\n",
    "from numpy import array\n",
    "```\n",
    "\n",
    "You may occasionally see code from other people that **import**s the **\\*** function from a package, e.g.\n",
    "```python\n",
    "from numpy import *\n",
    "```\n",
    "**PLEASE -- don't do this.** It can cause bugs that are hard to track down. For example, consider the following code:\n"
   ]
  },
  {
   "cell_type": "code",
   "execution_count": 1,
   "metadata": {},
   "outputs": [
    {
     "name": "stdout",
     "output_type": "stream",
     "text": [
      "Numpy mod is: 1\n",
      "My implementation of mod is: 10\n"
     ]
    }
   ],
   "source": [
    "from numpy import *\n",
    "\n",
    "print('Numpy mod is: %d' % mod(5,2))\n",
    "\n",
    "def mod(a, b):\n",
    "    # Yes, I know this is *not* how you do mod, but this is illustrative rather \n",
    "    # than mathematically correct\n",
    "    return a * b\n",
    "\n",
    "print('My implementation of mod is: %d' % mod(5, 2))"
   ]
  },
  {
   "cell_type": "markdown",
   "metadata": {},
   "source": [
    "As you can see, it's easy for the two implementations of the function to collide, and it won't even give you an error -- it's simply a function of what was defined last. If you had two packages with the same function name, you're going to get results you may not expect. Instead, we should do:"
   ]
  },
  {
   "cell_type": "code",
   "execution_count": 2,
   "metadata": {
    "scrolled": true
   },
   "outputs": [
    {
     "name": "stdout",
     "output_type": "stream",
     "text": [
      "Mod function not implemented yet!\n",
      "Numpy mod is: 1\n",
      "My implementation of mod is: 10\n"
     ]
    }
   ],
   "source": [
    "import numpy as np\n",
    "\n",
    "# Delete implementation of mod if you've already run this cell\n",
    "del mod\n",
    "# Try to run the mod function when it's not implemented. I put this in a try-except \n",
    "# block so that the error is caught. Since 'mod' is not implemented yet, it will\n",
    "# print the string in the 'except' block.\n",
    "try:\n",
    "    mod(5,2)\n",
    "except NameError as ne:\n",
    "    print(\"Mod function not implemented yet!\")\n",
    "    \n",
    "# This now doesn't get confused with numpy.mod\n",
    "def mod(a, b):\n",
    "    return a * b\n",
    "\n",
    "print('Numpy mod is: %d' % np.mod(5,2))\n",
    "print('My implementation of mod is: %d' % mod(5, 2))"
   ]
  },
  {
   "cell_type": "markdown",
   "metadata": {},
   "source": [
    "In this case, it's very clear that the first **mod** is from numpy, and the second is your implementation. Even if you do ```from numpy import mod```, it's a lot more transparent because you can see that that is explicitly taken from numpy."
   ]
  },
  {
   "cell_type": "markdown",
   "metadata": {},
   "source": [
    "# Popular Python Packages\n",
    "\n",
    "* Numpy (numpy) - Python's numerical package, used a lot for scientific computing\n",
    "* TensorFlow (tensorflow) or PyTorch (torch) - standards for machine learning\n",
    "* OpenCV (cv2) - traditional computer vision\n",
    "* Scipy (scipy) - implements lots of traditional machine learning functionality (nearest neighbors, support vector machine, clustering, and more)\n",
    "\n",
    "Several packages are available as part of the Python standard library - no installation necessary\n",
    "* os - operating system functions. Useful for building paths to files\n",
    "* re - regular expressions. These are powerful tools for finding strings matching a pattern.\n",
    "* sys - useful for getting command line arguments and many other things\n",
    "* shutil - interaction with file system\n",
    "* random - random number generation\n",
    "* math - mathematical functions"
   ]
  },
  {
   "cell_type": "markdown",
   "metadata": {},
   "source": [
    "# Things to Know\n",
    "\n",
    "* No explicit types\n",
    "* Whitespace defines the script\n",
    "* Scripts are interpreted \n",
    "  * No compilation for a given architecture/computer needed\n",
    "  * Can run a script until it breaks  \n",
    "  * Script still must be syntactically correct before it runs"
   ]
  },
  {
   "cell_type": "markdown",
   "metadata": {},
   "source": [
    "# Virtual environments\n",
    "\n",
    "A virtual environment is a way of compartmentalizing a Python project from other projects. For example, lets assume that we had one project that depended on version 1.8 of NumPy (the numerical python package) and couldn't be upgraded. What if we want to use version 1.12 of NumPy in another project -- that's going to mess up project #1. \n",
    "\n",
    "Virtual environments solve this problem. In effect, they make separate spaces for each project you want to make, so that you can use two different versions of the same package. \n",
    "\n",
    "Importantly, you can use one virtual environment for multiple scripts and projects. For example, I have an environment on my computer for TensorFlow, one for PyTorch, and so on. I use the PyTorch environment for lots of machine learning projects with PyTorch, but can exit out and start up the TF environment easily to use that framework. \n",
    "\n",
    "Popular virtual environments are:\n",
    "* Anaconda -- this includes an instance of Jupyter notebooks, which lets you make rich scripts in a web browser\n",
    "* Python also has a built-in venv function, which I'm not as familiar with.\n",
    "\n",
    "We won't really cover these in more detail here, because we will be using *containers* (e.g., Singularity, Docker) this summer that solve many of these problems"
   ]
  },
  {
   "cell_type": "markdown",
   "metadata": {},
   "source": [
    "# Python Syntax and Anatomy of a Script"
   ]
  },
  {
   "cell_type": "code",
   "execution_count": 3,
   "metadata": {
    "scrolled": true
   },
   "outputs": [
    {
     "ename": "IndentationError",
     "evalue": "unexpected indent (<ipython-input-3-9b3dcce15160>, line 10)",
     "output_type": "error",
     "traceback": [
      "\u001b[0;36m  File \u001b[0;32m\"<ipython-input-3-9b3dcce15160>\"\u001b[0;36m, line \u001b[0;32m10\u001b[0m\n\u001b[0;31m    b = 2\u001b[0m\n\u001b[0m    ^\u001b[0m\n\u001b[0;31mIndentationError\u001b[0m\u001b[0;31m:\u001b[0m unexpected indent\n"
     ]
    }
   ],
   "source": [
    "#! /usr/bin/env python\n",
    "# ^^ This is often called the 'shebang'. On Unix systems, it allows you to make \n",
    "# script executable (chmod +x), then run it as a program with ''./script.py' rather\n",
    "# than calling python explicitly (python script.py)\n",
    "\n",
    "import numpy as np\n",
    "\n",
    "a = 1\n",
    "# This is going to throw an error -- the spacing is wrong. Try fixing this!\n",
    "  b = 2"
   ]
  },
  {
   "cell_type": "code",
   "execution_count": 4,
   "metadata": {},
   "outputs": [
    {
     "name": "stdout",
     "output_type": "stream",
     "text": [
      "yes\n"
     ]
    }
   ],
   "source": [
    "a = 1\n",
    "# Python syntax is defined by whitespace. While the actual rules\n",
    "# are more exact, a good rule of thumb is to use 4 spaces \n",
    "# for each level of flow-control (e.g., for, and, while).\n",
    "# This is done instead of using brackets, parentheses, etc.\n",
    "# Also note the semicolon after each flow control statement.\n",
    "if True:\n",
    "    b = 1\n",
    "    \n",
    "# To get the feel for this, here are a few nested levels of logic. \n",
    "# Feel free to count the spaces -- there are four additional spaces\n",
    "# for each level.\n",
    "# TABS AND SPACES ARE NOT THE SAME IN PYTHON!!!\n",
    "if len('asdf') == 4:\n",
    "    print('yes')\n",
    "    for i in range(5):\n",
    "        j = 3\n",
    "        if True:\n",
    "            b = 3\n"
   ]
  },
  {
   "cell_type": "markdown",
   "metadata": {},
   "source": [
    "\n",
    "I can't put tabs in a Jupyter notebook easily, but:\n",
    "# Tabs and spaces are *not* the same in Python. \n",
    "Best practice is to set your editor to automatically expand tabs to a given number of spaces. It a) makes your script actually run, and b) spaces are constant width in any editor, while tabs may look like 4, 6, 8, or some user-defined number of tabs. \n",
    "\n",
    "## Flow control statements\n",
    "Flow control statements control any program. In Python, control statements are terminated with a colon : and trigger another level of indentation."
   ]
  },
  {
   "cell_type": "code",
   "execution_count": 11,
   "metadata": {},
   "outputs": [
    {
     "name": "stdout",
     "output_type": "stream",
     "text": [
      "Whew, math still works. We saved it.\n",
      "we are writing python \n",
      "0, 1, 2, 3, 4, \n",
      "10\n",
      "1 3 5 7 9 \n",
      "27\n"
     ]
    }
   ],
   "source": [
    "#! /usr/bin/env python\n",
    "# ^ Again, this lets the script execute without calling \n",
    "# python explicitly in Linux.\n",
    "\n",
    "# 'if' statement\n",
    "# BTW, comments start with a '#', as you can see. Anything in a \n",
    "# comment is skipped by the interpreter.\n",
    "if 1 > 3: # Need a statement that evaluates to True or False (which are \n",
    "    # reserved python keywords)\n",
    "    print(\"Math doesn't work if we get here\")\n",
    "elif 5 > 7:\n",
    "    print(\"An else-if block. We still won't get here, because 5 is less than 7.\")\n",
    "else:\n",
    "    print(\"Whew, math still works. We saved it.\")\n",
    "    \n",
    "# For loops need something to iterate over. We can go with a list:\n",
    "a = ''\n",
    "for i in ['we', 'are', 'writing', 'python']:\n",
    "    a += i + ' '\n",
    "print(a)\n",
    "    \n",
    "# or use 'range' to get a sequence of numbers. It returns an *iterable* \n",
    "# (something that Python can loop over) list of numbers up to the \n",
    "# value in the parentheses. There are more advanced ways to do range -\n",
    "# evenly spaced numbers, starting with something besides 0, etc. Just\n",
    "# so you know. \n",
    "a = ''\n",
    "for j in range(5):\n",
    "    # As you've probably seen, you can add to strings\n",
    "    # or numbers with the same syntax\n",
    "    a += str(j) + ', '\n",
    "print(a)\n",
    "    \n",
    "# While loops execute as long as the criteria is True\n",
    "w = 0\n",
    "q = 0\n",
    "while w < 4:\n",
    "    w += 1\n",
    "    q += w\n",
    "\n",
    "print(q)\n",
    "\n",
    "# I can use \"continue\" statements to skip one iteration of \n",
    "# a for or while loop\n",
    "string = ''\n",
    "for i in range(10):\n",
    "    if i % 2 == 0:\n",
    "        continue\n",
    "    else:\n",
    "        # Note that single and double quotes are both valid string\n",
    "        # delimiters, although they behave differently for\n",
    "        # certain characters. Feel free to look it up.\n",
    "        string += \"%d \" % i\n",
    "        \n",
    "print(string)\n",
    "\n",
    "# Break statements can get you out of a loop entirely.\n",
    "# These are useful if you have nested loops - like a \n",
    "# for in a for, but you don't want to unroll it completely\n",
    "# to just have one level.\n",
    "for i in range(50):\n",
    "    if i == 27:\n",
    "        break\n",
    "        \n",
    "# This is another way to insert variables into strings. It's called\n",
    "# string formatting and can be quite powerful. More information\n",
    "# in the documentation at https://docs.python.org/3/library/stdtypes.html#str.format\n",
    "print(\"You stopped on index {}\".format(i))\n",
    "\n",
    "# If I haven't implemented something but don't want to\n",
    "# break my script, I use the 'pass' keyword\n",
    "\n",
    "for i in range(5):\n",
    "    # This is basically a no-op. If you don't have\n",
    "    # it, the interpreter complains at you. \n",
    "    pass\n",
    "\n",
    "\n"
   ]
  },
  {
   "cell_type": "markdown",
   "metadata": {},
   "source": [
    "# Functions \n",
    "\n",
    "One of the great things about any coding language is the ability to encapsulate some functionality into a succinct definition and then use that functionality over and over. In python, you create these functions as follows. Note that a function must be defined before it can be called (except when the function is defined in a class, which we'll get to shortly.)"
   ]
  },
  {
   "cell_type": "code",
   "execution_count": 22,
   "metadata": {},
   "outputs": [
    {
     "name": "stdout",
     "output_type": "stream",
     "text": [
      "8\n",
      "0\n",
      "(1+1j)\n",
      "9\n"
     ]
    }
   ],
   "source": [
    "# The 'def' keyword defines a function. It is followed by the\n",
    "# name of the function, and then any arguments that the \n",
    "# function takes are included in parentheses.\n",
    "# \n",
    "# Note that there are ways to have variable length arguments,\n",
    "# but I'm not going to address those here. \n",
    "#\n",
    "# Also note that I can define a *default value* for arguments\n",
    "# in the function. Any argument with a default value must\n",
    "# come in order after all arguments with no default values. \n",
    "#\n",
    "# If a value for an argument with a default value is not\n",
    "# given, the default value is used.\n",
    "def add_two(a, b = 6):\n",
    "    # It's very good practice to document your function\n",
    "    # with a short string at the beginning. \n",
    "    # This function takes two arguments, adds them\n",
    "    # together, and returns the results.\n",
    "    result = a + b\n",
    "    # 'return' is a keyword in Python used to return \n",
    "    # the value from a function.\n",
    "    return result\n",
    "\n",
    "# I can now call this multiple times with different numbers. \n",
    "print(add_two(3, 5))\n",
    "print(add_two(5, -5))\n",
    "print(add_two(1, 1j)) # This is how you write complex numbers\n",
    "print(add_two(3)) # Here, we used the default value."
   ]
  },
  {
   "cell_type": "markdown",
   "metadata": {},
   "source": [
    "# Python Objects\n",
    "* Dictionaries\n",
    "* Lists\n",
    "* Sets\n",
    "* Tuples"
   ]
  },
  {
   "cell_type": "markdown",
   "metadata": {},
   "source": [
    "# File I/O\n",
    "We often want to read or write to a text file. This is quite easy to do in Python. This is a basic example. More complicated examples allow you to append to a file, read or write the binary values in a file, and so on."
   ]
  },
  {
   "cell_type": "code",
   "execution_count": 36,
   "metadata": {},
   "outputs": [
    {
     "name": "stdout",
     "output_type": "stream",
     "text": [
      "Python is so much fun!\n",
      "We can write to a file, close it, then come back.\n",
      "\n",
      "Reading all the lines:\n",
      "Python is so much fun!\n",
      "We can write to a file, close it, then come back.\n"
     ]
    }
   ],
   "source": [
    "# The 'with' keyword automatically scopes the \n",
    "# open file handle fh. After we exit the with block,\n",
    "# fh will no longer be a valid variable.\n",
    "\n",
    "# open is how we open files for reading and writing. The\n",
    "# first argument is the file we want to act on, and the second\n",
    "# one describes what you want to do. First, we will write a \n",
    "# few lines to 'a.txt'. The 'w' option is for writing. \n",
    "with open('a.txt', 'w') as fh:\n",
    "    # Notice the print syntax here; the second argument to\n",
    "    # the print function is the filehandle.\n",
    "    # Note that in Python2, you would write this line\n",
    "    # as print >>fh, 'Python is so much fun!' \n",
    "    # If you're doing this method, the newline \"\\n\" is \n",
    "    # important to get a new line.\n",
    "    # There's also an option for print(<message>, file=fh)\n",
    "    # in python3, but I can't get it to work here. \n",
    "    fh.write(\"Python is so much fun!\\n\")\n",
    "    \n",
    "# Now we are going to append to this file.\n",
    "# This is done with the 'a' option.\n",
    "with open('a.txt', 'a') as fh:\n",
    "    fh.write(\"We can write to a file, close it, then come back.\\n\")\n",
    "    \n",
    "# Finally, let's open the file and print the contents.\n",
    "with open('a.txt', 'r') as zzx: # Nothing special about the name fh.\n",
    "    # This gets the entire file.\n",
    "    print(zzx.read())\n",
    "    # Trying to read after this will generate an error.\n",
    "    \n",
    "print(\"Reading all the lines:\")\n",
    "# We can also read the file one line at a time. \n",
    "with open('a.txt', 'r') as zzx: # Nothing special about the name fh.\n",
    "    lines = zzx.readlines()\n",
    "    for l in lines:\n",
    "        # The rstrip method takes out trailing newlines. Feel free\n",
    "        # to print 'l' instead to see what happens.\n",
    "        l_stripped = l.rstrip()\n",
    "        print(l_stripped)"
   ]
  },
  {
   "cell_type": "markdown",
   "metadata": {},
   "source": [
    "# Debugging\n",
    "There are many tools available for debugging Python code. I admit that I am not familiar with these tools.\n",
    "\n",
    "Some debugging tools include the Python debugger (pdb) and any tools built into Python IDEs. Some benefits of debuggers include:\n",
    "\n",
    "* Line-by-line execution\n",
    "* Access to variable values\n",
    "* Pause exectution at given points\n",
    "\n",
    "In lieu of a full debugger, I often make liberal use of print statments and also enjoy using the ```python -i <your_script>``` command. This will cause the code to run until it breaks, and then drop you into a shell with the code already run. While this is a \"poor man's debugger\", it is good to note that this method is available by default on all systems. As you will be running on some headless systems (i.e no graphical interface), there is something to be said about learning to use these tools effectively. (The same can be said about coding with just a text editor vs. an IDE)\n",
    "\n",
    "The ```dir``` command within Python is also invaluable. It gives you a list of all variables and functions that are avalable to an object. Let's see what the ```os.path``` command can do:"
   ]
  },
  {
   "cell_type": "code",
   "execution_count": 40,
   "metadata": {},
   "outputs": [
    {
     "data": {
      "text/plain": [
       "['__all__',\n",
       " '__builtins__',\n",
       " '__doc__',\n",
       " '__file__',\n",
       " '__name__',\n",
       " '__package__',\n",
       " '_joinrealpath',\n",
       " '_unicode',\n",
       " '_uvarprog',\n",
       " '_varprog',\n",
       " 'abspath',\n",
       " 'altsep',\n",
       " 'basename',\n",
       " 'commonprefix',\n",
       " 'curdir',\n",
       " 'defpath',\n",
       " 'devnull',\n",
       " 'dirname',\n",
       " 'exists',\n",
       " 'expanduser',\n",
       " 'expandvars',\n",
       " 'extsep',\n",
       " 'genericpath',\n",
       " 'getatime',\n",
       " 'getctime',\n",
       " 'getmtime',\n",
       " 'getsize',\n",
       " 'isabs',\n",
       " 'isdir',\n",
       " 'isfile',\n",
       " 'islink',\n",
       " 'ismount',\n",
       " 'join',\n",
       " 'lexists',\n",
       " 'normcase',\n",
       " 'normpath',\n",
       " 'os',\n",
       " 'pardir',\n",
       " 'pathsep',\n",
       " 'realpath',\n",
       " 'relpath',\n",
       " 'samefile',\n",
       " 'sameopenfile',\n",
       " 'samestat',\n",
       " 'sep',\n",
       " 'split',\n",
       " 'splitdrive',\n",
       " 'splitext',\n",
       " 'stat',\n",
       " 'supports_unicode_filenames',\n",
       " 'sys',\n",
       " 'walk',\n",
       " 'warnings']"
      ]
     },
     "execution_count": 40,
     "metadata": {},
     "output_type": "execute_result"
    }
   ],
   "source": [
    "import os\n",
    "\n",
    "dir(os.path)"
   ]
  },
  {
   "cell_type": "markdown",
   "metadata": {},
   "source": [
    "Quite a lot of things! This is useful to help remember what is available if you're alread familiar with a class but don't remember method or variable names. I find this useful with classes that I'm familiar with or where I know a certain method exists. For example, I'm sure that ```math``` has some way to take the log base 10 of a number; I can use the dir command and some common sense about naming to try and find that command. (It's ```math.log10```, by the way. Try and find that in the code in this next cell.)"
   ]
  },
  {
   "cell_type": "code",
   "execution_count": 41,
   "metadata": {},
   "outputs": [
    {
     "data": {
      "text/plain": [
       "['__doc__',\n",
       " '__file__',\n",
       " '__name__',\n",
       " '__package__',\n",
       " 'acos',\n",
       " 'acosh',\n",
       " 'asin',\n",
       " 'asinh',\n",
       " 'atan',\n",
       " 'atan2',\n",
       " 'atanh',\n",
       " 'ceil',\n",
       " 'copysign',\n",
       " 'cos',\n",
       " 'cosh',\n",
       " 'degrees',\n",
       " 'e',\n",
       " 'erf',\n",
       " 'erfc',\n",
       " 'exp',\n",
       " 'expm1',\n",
       " 'fabs',\n",
       " 'factorial',\n",
       " 'floor',\n",
       " 'fmod',\n",
       " 'frexp',\n",
       " 'fsum',\n",
       " 'gamma',\n",
       " 'hypot',\n",
       " 'isinf',\n",
       " 'isnan',\n",
       " 'ldexp',\n",
       " 'lgamma',\n",
       " 'log',\n",
       " 'log10',\n",
       " 'log1p',\n",
       " 'modf',\n",
       " 'pi',\n",
       " 'pow',\n",
       " 'radians',\n",
       " 'sin',\n",
       " 'sinh',\n",
       " 'sqrt',\n",
       " 'tan',\n",
       " 'tanh',\n",
       " 'trunc']"
      ]
     },
     "execution_count": 41,
     "metadata": {},
     "output_type": "execute_result"
    }
   ],
   "source": [
    "import math\n",
    "\n",
    "dir(math)"
   ]
  },
  {
   "cell_type": "markdown",
   "metadata": {},
   "source": [
    "\n",
    "\n",
    "Although I don't know how to use them, debugging tools and IDEs are definitely good tools to learn about and I 100% encourage you to study them as desired. If you plan to eventually go into a career that heavily develops software, these tools will become crucial. \n",
    "\n",
    "## Debugging strategies\n",
    "Debugging is very much a learned skill. Please do your best to try and solve problems **on your own** at first before asking for help. I would recommend a minimum of ten minutes of searching Stack Overflow, checking your code, and looking at output on the command line before asking for help. This does two things: it keeps the ATR Center helpdesk (which is just a couple of people) from being overwhelmed with requests, and it builds your skills as a programmer and engineer. \n",
    "\n",
    "Some strategies I like to take include:\n",
    "* Running the code with an input that will produce a known output. Going back to our simple mod code, you can try running it with various parameters that you know the answers to, then checking to see if it gives you the answer you expect\n",
    "* Try to understand the error code. While error codes can be dense, they will often tell you the line number at which your code broke. You can often google the error code and get a lucid discussion of what went wrong\n",
    "* Try the aformentioned technique of putting print statements in your code, and using ```python -i <your_script>```. \n",
    "* Search Stack Overflow and other code sites\n",
    "* Use a debugger \n",
    "* Try to cut out parts of your code that aren't currently being used (comment them out) to remove the possibility that they are causing errors. "
   ]
  },
  {
   "cell_type": "markdown",
   "metadata": {},
   "source": [
    "# Unit testing\n",
    "This is more of an advanced topic, but it fits well with debugging. Unit testing is a way to guarantee high code quality. The philosophy behind unit testing is to write a bunch of tests that try to break your code in predictable ways. You can then run these tests frequently against your code as it grows; any change to your code that breaks these tests can be quickly fixed.\n",
    "\n",
    "Python uses the ```unittest``` framework to perform these tests. This is much more efficient than creating your own testing scripts, but takes some getting used to. I suggest reading the documentation at https://docs.python.org/3.7/library/unittest.html as a starting place, and learning to do some basic unit tests. \n",
    "\n",
    "For example, if I were writing a machine learning code, I would write unittests for at least the following scenarios:\n",
    "* Giving it a path to a folder that doesn't exist or doesn't have data and check that it fails\n",
    "* Giving it imagery data of a different size than I expect and check that it fails\n",
    "* Feed imagery data of a size I *do* expect and check that the code succeeds\n",
    "* Check that the data loader is getting a size greater than zero (i.e. that it properly loads data)\n",
    "\n",
    "And so on. While an exhaustive unit test strategy may be more than you want to do, it may be worth writing a unit test for situations where you code previously broke, so you can check that it doesn't break again."
   ]
  },
  {
   "cell_type": "markdown",
   "metadata": {},
   "source": [
    "# Classes\n",
    "\n",
    "A Python class is a nice way to compile a lot of functionality into a single **object**. In this way, we can have one variable that carries around a lot of related functionality in just a few short lines in the main code. \n",
    "\n",
    "For example, suppose that you wanted to create an object to hold information about images, such as one used in machine learning code. What would be useful functionality? Some things that would possible be useful include:\n",
    "* A function to read the image\n",
    "* A function to extract the height and width of the image\n",
    "* A variable holding a 3-D array with image data\n",
    "* Variables describing the height and width of the image\n",
    "* A variable for the class label\n",
    "\n",
    "and so on.\n",
    "\n",
    "The following represents a basic class that performs some basic mathematical operations. Discussion will follow the code."
   ]
  },
  {
   "cell_type": "code",
   "execution_count": 72,
   "metadata": {},
   "outputs": [
    {
     "name": "stdout",
     "output_type": "stream",
     "text": [
      "16\n",
      "5.33333333333\n",
      "2\n",
      "59.088\n",
      "Working with object 2 now:\n",
      "14\n",
      "4.66666666667\n",
      "Object a's length is : 3\n",
      "Object values are 9, 2, and 5.\n",
      "False\n",
      "False\n",
      "True\n",
      "30\n",
      "30\n"
     ]
    }
   ],
   "source": [
    "import math\n",
    "\n",
    "# Objects of this class are called mathObject. You can have \n",
    "# more than one mathObject defined. \n",
    "class mathObject():\n",
    "    \n",
    "    # All classes must have an __init__ function.\n",
    "    # This function is run when the class object is first\n",
    "    # created, and is used to set up variables in the class\n",
    "    # and perform other initializations. \n",
    "    def __init__(self, int_a, int_b, int_c):\n",
    "        # 'self' is the namespace of this class; it's kind of a\n",
    "        # pointer to that given object. I like to put all my variables\n",
    "        # within the 'self' context, like this. \n",
    "        self.int1 = int_a\n",
    "        self.int2 = int_b\n",
    "        self.int3 = int_c\n",
    "        \n",
    "    # Note that each function must take, as its first argument,\n",
    "    # the parameter 'self'. This is passed to the function implicitly,\n",
    "    # meaning you don't actually have to define it, and will cause an\n",
    "    # error if you do pass an argument for 'self'. \n",
    "    def avg(self):\n",
    "        # Any function that is defined within this class must be\n",
    "        # called using the syntax self.<function_name>. It will cause\n",
    "        # an error if you don't call it this way.\n",
    "        # Note that I was able to call the sum() function even though\n",
    "        # it is defined later in the code: this is because, as best as\n",
    "        # I can tell, the class object is all initialized at once before\n",
    "        # any functions are called. \n",
    "        return float(self.sum()) / 3\n",
    "        \n",
    "    def sum(self):\n",
    "        # I can access the class's variables anywhere \n",
    "        # within the class, in this way. \n",
    "        return self.int1 + self.int2 + self.int3\n",
    "    \n",
    "    def least(self):\n",
    "        # Another example of accessing internal variables\n",
    "        return min(self.int1, self.int2, self.int3)\n",
    "        \n",
    "    def mult_sum_by_arg(self, mult_val):\n",
    "        # Functions can still take external arguments, as long as \n",
    "        # the 'self' argument is the first one in the function \n",
    "        # definition. \n",
    "        return self.sum() * mult_val\n",
    "    \n",
    "    # Advanced:\n",
    "    # You don't have to define these functions, but they are supported as \n",
    "    # part of the Python class definition. They interact with Python functions\n",
    "    # in defined ways.\n",
    "    \n",
    "    # The '__len__' function (notice the underscores) interacts with the 'len'\n",
    "    # command in Python to get the length of an object. \n",
    "    def __len__(self):\n",
    "        return 3 # or whatever metric you want to use for length.\n",
    "    \n",
    "    # The '__repr__' command interacts with print, allowing you to define a string\n",
    "    # that is descriptive when printing the class. \n",
    "    def __repr__(self):\n",
    "        return \"Object values are {}, {}, and {}.\".format(self.int1, self.int2, self.int3)\n",
    "    \n",
    "    # This interacts with the equality operator in Python, allowing you to\n",
    "    # define equality for objects that are of this type. \n",
    "    def __eq__(self, other_object):\n",
    "        return self.sum() == other_object.sum()\n",
    "    \n",
    "    # Similar for less than and greater than.\n",
    "    # Since these are binary objects, you technically only need to\n",
    "    # implement one of __gt__ and __lt__. \n",
    "    def __gt__(self, o):\n",
    "        return self.sum() > o.sum()\n",
    "    \n",
    "    # More about these 'magic methods' can be found https://rszalski.github.io/magicmethods/\n",
    "    # or in the Python documentation. There are a lot of them, implementing such operations\n",
    "    # as arithmetic, boolean logic, assignment operators (such as +=), conversions (such as\n",
    "    # to float or hex), hashes, size operators, formats, and more. \n",
    "    \n",
    "    \n",
    "a = mathObject(9,2,5)\n",
    "print(a.sum())\n",
    "print(a.avg())\n",
    "print(a.least())\n",
    "print(a.mult_sum_by_arg(3.693))\n",
    "# Define another mathObject\n",
    "print(\"Working with object 2 now:\")\n",
    "b = mathObject(4,5,5)\n",
    "print(b.sum())\n",
    "print(b.avg())\n",
    "\n",
    "# Advanced -- demonstrate the Python-defined functions\n",
    "print(\"Object a's length is : \" + str(len(a)))\n",
    "print(a)\n",
    "print(a == b)\n",
    "print(a < b)\n",
    "print(a > b)"
   ]
  },
  {
   "cell_type": "markdown",
   "metadata": {},
   "source": [
    "# Python 3.6 \n",
    "\n",
    "Python 2.7 is going to end of life at the end of 2019 and will no longer be officially supported. To that end, we **highly** suggest that you implement code that is Python 3 compliant. While the syntax is largely the same, there are a few things to pay attention to: \n",
    "\n",
    "* print statements now need to have the string enclosed in parentheses, e.g. ```print('this string')```\n",
    "* File I/O is slightly different\n",
    "* There are lots of fun new tools to play with\n",
    "* Some packages may not be fully upgraded yet.\n",
    "\n",
    "To ensure Python 3 compliance, **please** run your code with the python3 interpreter on the command line. \n",
    "\n",
    "```\n",
    "python my_script.py # This will generally default to python 2, so please don't use this\n",
    "python3 my_script.py # This will use the Python 3 interpreter. \n",
    "```\n",
    "If desired, you can make an alias so that ```python``` calls ```python3``` by default. Just please be aware and used Python 3 where possible."
   ]
  },
  {
   "cell_type": "markdown",
   "metadata": {},
   "source": [
    "# Other Thoughts\n",
    "* Code modularity - try to make things into multiple scripts, each well defined in its scope. For instance, a project that has an image loader, a processing algorithm, and a save method could be defined as:\n",
    "  * im_loader.py\n",
    "  * im_process.py\n",
    "  * im_save.py\n",
    "  * main.py\n",
    "The main script would be the main.py script. This script would look something like this: "
   ]
  },
  {
   "cell_type": "code",
   "execution_count": 42,
   "metadata": {},
   "outputs": [
    {
     "ename": "ImportError",
     "evalue": "No module named im_loader",
     "output_type": "error",
     "traceback": [
      "\u001b[0;31m---------------------------------------------------------------------------\u001b[0m",
      "\u001b[0;31mImportError\u001b[0m                               Traceback (most recent call last)",
      "\u001b[0;32m<ipython-input-42-70108db2d51e>\u001b[0m in \u001b[0;36m<module>\u001b[0;34m()\u001b[0m\n\u001b[0;32m----> 1\u001b[0;31m \u001b[0;32mimport\u001b[0m \u001b[0mim_loader\u001b[0m\u001b[0;34m\u001b[0m\u001b[0m\n\u001b[0m\u001b[1;32m      2\u001b[0m \u001b[0;32mimport\u001b[0m \u001b[0mim_save\u001b[0m\u001b[0;34m\u001b[0m\u001b[0m\n\u001b[1;32m      3\u001b[0m \u001b[0;32mimport\u001b[0m \u001b[0mim_process\u001b[0m\u001b[0;34m\u001b[0m\u001b[0m\n\u001b[1;32m      4\u001b[0m \u001b[0;34m\u001b[0m\u001b[0m\n\u001b[1;32m      5\u001b[0m \u001b[0;31m# This is a nice Pythonism that tells Python to only run the code if you are\u001b[0m\u001b[0;34m\u001b[0m\u001b[0;34m\u001b[0m\u001b[0m\n",
      "\u001b[0;31mImportError\u001b[0m: No module named im_loader"
     ]
    }
   ],
   "source": [
    "# Note that this code won't actually work, as I haven't implemented these \n",
    "# files; this is more to demonstrate the idea.\n",
    "import im_loader\n",
    "import im_save\n",
    "import im_process\n",
    "\n",
    "# This is a nice Pythonism that tells Python to only run the code if you are\n",
    "# running this script by name (e.g. python main.py). If main.py were imported\n",
    "# into another script, this code would not run. \n",
    "if __name__ == \"__main__\":\n",
    "# This part obviously depends on what you call your methods in the scripts.\n",
    "    one_img = im_loader.get_img('path/to/the/image.png')\n",
    "    img_processed = im_process.process(one_img)\n",
    "    im_save.save('path/to/save/location', img_processed)"
   ]
  },
  {
   "cell_type": "markdown",
   "metadata": {},
   "source": [
    "# Further Info\n",
    "\n",
    "* repr\n",
    "* dir\n",
    "* assert"
   ]
  }
 ],
 "metadata": {
  "anaconda-cloud": {},
  "kernelspec": {
   "display_name": "Python [conda root]",
   "language": "python",
   "name": "conda-root-py"
  },
  "language_info": {
   "codemirror_mode": {
    "name": "ipython",
    "version": 2
   },
   "file_extension": ".py",
   "mimetype": "text/x-python",
   "name": "python",
   "nbconvert_exporter": "python",
   "pygments_lexer": "ipython2",
   "version": "2.7.12"
  }
 },
 "nbformat": 4,
 "nbformat_minor": 2
}
