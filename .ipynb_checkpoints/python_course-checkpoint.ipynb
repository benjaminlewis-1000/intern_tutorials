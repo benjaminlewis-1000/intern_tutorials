{
 "cells": [
  {
   "cell_type": "markdown",
   "metadata": {},
   "source": [
    "# What is Python?\n",
    "\n",
    "Python is an *interpreted* language that is popular for many programming tasks. \n",
    "\n",
    "Python is:\n",
    "* Easy to learn -- you don't need to know what the computer is doing under the hood, like in C or C++\n",
    "* Pre-installed on Linux\n",
    "* Syntactically simple\n",
    "* Widely supported - the user community is large, and Stack Overflow has answers to most problems\n",
    "* Rated as the #1 to #5 most popular language, depending on the metric and the survey.\n"
   ]
  },
  {
   "cell_type": "markdown",
   "metadata": {},
   "source": [
    "\n",
    "# What can I use Python for?\n",
    "\n",
    "* Machine learning and Deep learning (Pytorch, TensorFlow)\n",
    "* Back-end web development (Django, flask)\n",
    "* Data science / data mining (scikit)\n",
    "* Data visualization \n",
    "* Plotting (matplotlib)\n",
    "* Scripting \n",
    "* Interact with web resources, such as site scrapers\n",
    "* Programming with databases (sqlite3)\n",
    "* Traditional computer vision (OpenCV)\n",
    "* Embedded programming (EmbeddedPython)\n",
    "* Multithreaded applications (multithreading)\n",
    "\n",
    "And so much more!"
   ]
  },
  {
   "cell_type": "markdown",
   "metadata": {},
   "source": [
    "XKCD's take on Python \n",
    "\n",
    "![title](python_xkcd.png)\n",
    "\n",
    "* Bonus fact - ```import antigravity``` in Python brings up this comic."
   ]
  },
  {
   "cell_type": "markdown",
   "metadata": {},
   "source": [
    "# Packages: Installing and Importing:\n",
    "\n",
    "To install a package, we use pip (stands for *pip installs packages*), the Python package manager. \n",
    "\n",
    "## Installing packages\n",
    "\n",
    "To install a package that you know the name of (for instance, numpy), simply go to the command line and type:\n",
    "\n",
    "```bash \n",
    "pip install numpy\n",
    "```\n",
    "\n",
    "Sometimes, we don't know the name of the package, so we need to search it. While Google is helpful, pip also includes a search function. Say I want to install OpenCV, the computer vision library, but I don't know the exact package name. I can type:\n",
    "\n",
    "```bash\n",
    "pip search opencv\n",
    "```\n",
    "and among the results will be ```opencv-python```, which is the package.\n",
    "\n",
    "Installation of packages is straightforward (you may have to type a 'y' somewhere). Uninstalling a package can be done with\n",
    "```bash\n",
    "pip uninstall opencv-python\n",
    "```\n",
    "\n",
    "If you want a certain version, you can specify like this:\n",
    "```bash\n",
    "pip install numpy==1.16.2\n",
    "```\n",
    "\n",
    "To get a list of packages you have installed in your system or virtual environment, use:\n",
    "```bash\n",
    "pip freeze > requirements.txt\n",
    "```\n",
    "which produces the file **requirements.txt**. You can also install a bunch of packages from a requirements file with\n",
    "```bash\n",
    "pip install -r requirements.txt\n",
    "```\n",
    "\n",
    "## Importing packages in your script\n",
    "Python scripts include the functionality of packages using the **import** keyword. Assuming that a package is in your path (most of the time, don't worry about this; pip will take care of it), you can import packages using the following. \n",
    "```python\n",
    "import numpy\n",
    "import tensorflow\n",
    "import matplotlib\n",
    "```\n",
    "You can also reference long package names in your script as shorter strings. Some common ones include:\n",
    "```python\n",
    "import numpy as np\n",
    "import tensorflow as tf\n",
    "import matplotlib as matplot\n",
    "```\n",
    "Occasionally, you may want to go down in the heirarchy of the package to just include one part of it. For instance, you can import just the 'array' functionality of numpy with\n",
    "```python\n",
    "from numpy import array\n",
    "```\n",
    "\n",
    "You may occasionally see code from other people that **import**s the **\\*** function from a package, e.g.\n",
    "```python\n",
    "from numpy import *\n",
    "```\n",
    "**PLEASE -- don't do this.** It can cause bugs that are hard to track down. For example, consider the following code:\n"
   ]
  },
  {
   "cell_type": "code",
   "execution_count": 14,
   "metadata": {},
   "outputs": [
    {
     "name": "stdout",
     "output_type": "stream",
     "text": [
      "Numpy mod is: 1\n",
      "My implementation of mod is: 10\n"
     ]
    }
   ],
   "source": [
    "from numpy import *\n",
    "\n",
    "print('Numpy mod is: %d' % mod(5,2))\n",
    "\n",
    "def mod(a, b):\n",
    "    # Yes, I know this is *not* how you do mod, but this is illustrative rather \n",
    "    # than mathematically correct\n",
    "    return a * b\n",
    "\n",
    "print('My implementation of mod is: %d' % mod(5, 2))"
   ]
  },
  {
   "cell_type": "markdown",
   "metadata": {},
   "source": [
    "As you can see, it's easy for the two implementations of the function to collide, and it won't even give you an error -- it's simply a function of what was defined last. If you had two packages with the same function name, you're going to get results you may not expect. Instead, we should do:"
   ]
  },
  {
   "cell_type": "code",
   "execution_count": 9,
   "metadata": {
    "scrolled": true
   },
   "outputs": [
    {
     "name": "stdout",
     "output_type": "stream",
     "text": [
      "Mod function not implemented yet!\n",
      "Numpy mod is: 1\n",
      "My implementation of mod is: 10\n"
     ]
    }
   ],
   "source": [
    "import numpy as np\n",
    "\n",
    "# Delete implementation of mod if you've already run this cell\n",
    "del mod\n",
    "# Try to run the mod function when it's not implemented. I put this in a try-except \n",
    "# block so that the error is caught. Since 'mod' is not implemented yet, it will\n",
    "# print the string in the 'except' block.\n",
    "try:\n",
    "    mod(5,2)\n",
    "except NameError as ne:\n",
    "    print(\"Mod function not implemented yet!\")\n",
    "    \n",
    "# This is now unambiguous with numpy.mod\n",
    "def mod(a, b):\n",
    "    return a * b\n",
    "\n",
    "print('Numpy mod is: %d' % np.mod(5,2))\n",
    "print('My implementation of mod is: %d' % mod(5, 2))"
   ]
  },
  {
   "cell_type": "markdown",
   "metadata": {},
   "source": [
    "In this case, it's very clear that the first **mod** is from numpy, and the second is your implementation. Even if you do ```from numpy import mod```, it's a lot more transparent because you can see that that is explicitly taken from numpy."
   ]
  },
  {
   "cell_type": "markdown",
   "metadata": {},
   "source": [
    "# Popular Python Packages\n",
    "\n",
    "* Numpy (numpy) - Python's numerical package, used a lot for scientific computing\n",
    "* TensorFlow (tensorflow) or PyTorch (torch) - standards for machine learning\n",
    "* OpenCV (cv2) - traditional computer vision\n",
    "* Scipy (scipy) - implements lots of traditional machine learning functionality (nearest neighbors, support vector machine, clustering, and more)\n",
    "\n",
    "Several packages are available as part of the Python standard library - no installation necessary\n",
    "* os - operating system functions. Useful for building paths to files\n",
    "* re - regular expressions. These are powerful tools for finding strings matching a pattern.\n",
    "* sys - useful for getting command line arguments and many other things\n",
    "* shutil - interaction with file system\n",
    "* random - random number generation\n",
    "* math - mathematical functions"
   ]
  },
  {
   "cell_type": "markdown",
   "metadata": {},
   "source": [
    "# Things to Know\n",
    "\n",
    "* No explicit types\n",
    "* Whitespace defines the script\n",
    "* Scripts are interpreted \n",
    "  * No compilation for a given architecture/computer needed\n",
    "  * Can run a script until it breaks  \n",
    "  * Script still must be syntactically correct before it runs"
   ]
  },
  {
   "cell_type": "markdown",
   "metadata": {},
   "source": [
    "# Virtual environments\n",
    "\n",
    "A virtual environment is a way of compartmentalizing a Python project from other projects. For example, lets assume that we had one project that depended on version 1.8 of NumPy (the numerical python package) and couldn't be upgraded. What if we want to use version 1.12 of NumPy in another project -- that's going to mess up project #1. \n",
    "\n",
    "Virtual environments solve this problem. In effect, they make separate spaces for each project you want to make, so that you can use two different versions of the same package. \n",
    "\n",
    "Importantly, you can use one virtual environment for multiple scripts and projects. For example, I have an environment on my computer for TensorFlow, one for PyTorch, and so on. I use the PyTorch environment for lots of machine learning projects with PyTorch, but can exit out and start up the TF environment easily to use that framework. \n",
    "\n",
    "Popular virtual environments are:\n",
    "* Anaconda -- this includes an instance of Jupyter notebooks, which lets you make rich scripts in a web browser\n",
    "* Python also has a built-in venv function, which I'm not as familiar with.\n",
    "\n",
    "We won't really cover these in more detail here, because we will be using *containers* (e.g., Singularity, Docker) this summer that solve many of these problems"
   ]
  },
  {
   "cell_type": "markdown",
   "metadata": {},
   "source": [
    "# Python syntax"
   ]
  },
  {
   "cell_type": "code",
   "execution_count": null,
   "metadata": {
    "scrolled": true
   },
   "outputs": [],
   "source": [
    "#! /usr/bin/env python\n",
    "# ^^ This is often called the 'shebang'. On Unix systems, it allows you to make \n",
    "# script executable (chmod +x), then run it as a program with ''./script.py' rather\n",
    "# than calling python explicitly (python script.py)\n",
    "\n",
    "import numpy as np\n",
    "\n",
    "a = 1\n",
    "# This is going to throw an error -- the spacing is wrong. Try fixing this!\n",
    "  b = 2"
   ]
  },
  {
   "cell_type": "code",
   "execution_count": null,
   "metadata": {},
   "outputs": [],
   "source": [
    "a = 1\n",
    "if True:\n",
    "    b = 1\n"
   ]
  },
  {
   "cell_type": "markdown",
   "metadata": {},
   "source": [
    "\n",
    "I can't put tabs in a Jupyter notebook easily, but tabs and spaces are *not* the same in Python. Best practice is to set your editor to automatically expand tabs to a given number of spaces. It a) makes your script actually run, and b) spaces are constant width in any editor, while tabs may look like 4, 6, 8, or some user-defined number of tabs. \n",
    "\n",
    "## Flow statements\n",
    "Flow control statements control any program. In Python, control statements are terminated with a colon : and trigger another level of indentation."
   ]
  },
  {
   "cell_type": "code",
   "execution_count": null,
   "metadata": {},
   "outputs": [],
   "source": [
    "# 'if' statement\n",
    "if 1 > 3: # Need a statement that evaluates to True or False (which are \n",
    "    # reserved python keywords)\n",
    "    print(\"Math doesn't work\")\n",
    "else:\n",
    "    print(\"Whew, we saved math.\")\n",
    "    \n",
    "# For loops need something to iterate over. We can go with a list:\n",
    "for i in ['we', 'are', 'writing', 'python']:\n",
    "    print(i)\n",
    "    \n",
    "# or use 'range' to get a sequence of numbers:\n",
    "for j in range(5):\n",
    "    print(j)\n",
    "    \n",
    "# While loops execute as long as the criteria is true\n",
    "w = 0\n",
    "q = 0\n",
    "while w < 4:\n",
    "    q += w\n",
    "    w += 1\n",
    "    "
   ]
  },
  {
   "cell_type": "code",
   "execution_count": null,
   "metadata": {},
   "outputs": [],
   "source": [
    "\n"
   ]
  }
 ],
 "metadata": {
  "kernelspec": {
   "display_name": "Python 3",
   "language": "python",
   "name": "python3"
  },
  "language_info": {
   "codemirror_mode": {
    "name": "ipython",
    "version": 3
   },
   "file_extension": ".py",
   "mimetype": "text/x-python",
   "name": "python",
   "nbconvert_exporter": "python",
   "pygments_lexer": "ipython3",
   "version": "3.7.1"
  }
 },
 "nbformat": 4,
 "nbformat_minor": 2
}
